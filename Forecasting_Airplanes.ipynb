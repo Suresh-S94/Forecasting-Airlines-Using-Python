{
 "cells": [
  {
   "cell_type": "code",
   "execution_count": 1,
   "metadata": {},
   "outputs": [],
   "source": [
    "import pandas as pd"
   ]
  },
  {
   "cell_type": "code",
   "execution_count": 3,
   "metadata": {},
   "outputs": [],
   "source": [
    "df=pd.read_excel('C:\\\\Users\\\\Factory\\\\Desktop\\\\Forecasting\\\\Airlines+Data.xlsx')"
   ]
  },
  {
   "cell_type": "code",
   "execution_count": 4,
   "metadata": {},
   "outputs": [
    {
     "data": {
      "text/html": [
       "<div>\n",
       "<style scoped>\n",
       "    .dataframe tbody tr th:only-of-type {\n",
       "        vertical-align: middle;\n",
       "    }\n",
       "\n",
       "    .dataframe tbody tr th {\n",
       "        vertical-align: top;\n",
       "    }\n",
       "\n",
       "    .dataframe thead th {\n",
       "        text-align: right;\n",
       "    }\n",
       "</style>\n",
       "<table border=\"1\" class=\"dataframe\">\n",
       "  <thead>\n",
       "    <tr style=\"text-align: right;\">\n",
       "      <th></th>\n",
       "      <th>Month</th>\n",
       "      <th>Passengers</th>\n",
       "    </tr>\n",
       "  </thead>\n",
       "  <tbody>\n",
       "    <tr>\n",
       "      <th>0</th>\n",
       "      <td>1995-01-01</td>\n",
       "      <td>112</td>\n",
       "    </tr>\n",
       "    <tr>\n",
       "      <th>1</th>\n",
       "      <td>1995-02-01</td>\n",
       "      <td>118</td>\n",
       "    </tr>\n",
       "    <tr>\n",
       "      <th>2</th>\n",
       "      <td>1995-03-01</td>\n",
       "      <td>132</td>\n",
       "    </tr>\n",
       "    <tr>\n",
       "      <th>3</th>\n",
       "      <td>1995-04-01</td>\n",
       "      <td>129</td>\n",
       "    </tr>\n",
       "    <tr>\n",
       "      <th>4</th>\n",
       "      <td>1995-05-01</td>\n",
       "      <td>121</td>\n",
       "    </tr>\n",
       "  </tbody>\n",
       "</table>\n",
       "</div>"
      ],
      "text/plain": [
       "       Month  Passengers\n",
       "0 1995-01-01         112\n",
       "1 1995-02-01         118\n",
       "2 1995-03-01         132\n",
       "3 1995-04-01         129\n",
       "4 1995-05-01         121"
      ]
     },
     "execution_count": 4,
     "metadata": {},
     "output_type": "execute_result"
    }
   ],
   "source": [
    "df.head()"
   ]
  },
  {
   "cell_type": "code",
   "execution_count": 5,
   "metadata": {},
   "outputs": [
    {
     "data": {
      "text/html": [
       "<div>\n",
       "<style scoped>\n",
       "    .dataframe tbody tr th:only-of-type {\n",
       "        vertical-align: middle;\n",
       "    }\n",
       "\n",
       "    .dataframe tbody tr th {\n",
       "        vertical-align: top;\n",
       "    }\n",
       "\n",
       "    .dataframe thead th {\n",
       "        text-align: right;\n",
       "    }\n",
       "</style>\n",
       "<table border=\"1\" class=\"dataframe\">\n",
       "  <thead>\n",
       "    <tr style=\"text-align: right;\">\n",
       "      <th></th>\n",
       "      <th>Month</th>\n",
       "      <th>Passengers</th>\n",
       "    </tr>\n",
       "  </thead>\n",
       "  <tbody>\n",
       "    <tr>\n",
       "      <th>91</th>\n",
       "      <td>2002-08-01</td>\n",
       "      <td>405</td>\n",
       "    </tr>\n",
       "    <tr>\n",
       "      <th>92</th>\n",
       "      <td>2002-09-01</td>\n",
       "      <td>355</td>\n",
       "    </tr>\n",
       "    <tr>\n",
       "      <th>93</th>\n",
       "      <td>2002-10-01</td>\n",
       "      <td>306</td>\n",
       "    </tr>\n",
       "    <tr>\n",
       "      <th>94</th>\n",
       "      <td>2002-11-01</td>\n",
       "      <td>271</td>\n",
       "    </tr>\n",
       "    <tr>\n",
       "      <th>95</th>\n",
       "      <td>2002-12-01</td>\n",
       "      <td>306</td>\n",
       "    </tr>\n",
       "  </tbody>\n",
       "</table>\n",
       "</div>"
      ],
      "text/plain": [
       "        Month  Passengers\n",
       "91 2002-08-01         405\n",
       "92 2002-09-01         355\n",
       "93 2002-10-01         306\n",
       "94 2002-11-01         271\n",
       "95 2002-12-01         306"
      ]
     },
     "execution_count": 5,
     "metadata": {},
     "output_type": "execute_result"
    }
   ],
   "source": [
    "df.tail()"
   ]
  },
  {
   "cell_type": "code",
   "execution_count": 6,
   "metadata": {},
   "outputs": [],
   "source": [
    "import matplotlib.pyplot as plt"
   ]
  },
  {
   "cell_type": "code",
   "execution_count": 7,
   "metadata": {},
   "outputs": [
    {
     "data": {
      "text/plain": [
       "[<matplotlib.lines.Line2D at 0x20358ad78e0>]"
      ]
     },
     "execution_count": 7,
     "metadata": {},
     "output_type": "execute_result"
    },
    {
     "data": {
      "image/png": "[encoded data removed]",
      "text/plain": [
       "<Figure size 432x288 with 1 Axes>"
      ]
     },
     "metadata": {
      "needs_background": "light"
     },
     "output_type": "display_data"
    }
   ],
   "source": [
    "plt.plot(df.iloc[:,1])"
   ]
  },
  {
   "cell_type": "markdown",
   "metadata": {},
   "source": [
    "# Scaling"
   ]
  },
  {
   "cell_type": "markdown",
   "metadata": {},
   "source": [
    "LSTMs are sensitive to the scale of the input data, specifically when the sigmoid (default) or tanh activation functions are used. It can be a good practice to rescale the data to the range of 0-to-1, also called normalizing. We can easily normalize the dataset using the MinMaxScaler preprocessing class from the scikit-learn library."
   ]
  },
  {
   "cell_type": "code",
   "execution_count": 8,
   "metadata": {},
   "outputs": [],
   "source": [
    "from sklearn.preprocessing import MinMaxScaler"
   ]
  },
  {
   "cell_type": "code",
   "execution_count": 9,
   "metadata": {},
   "outputs": [
    {
     "data": {
      "text/plain": [
       "0     112\n",
       "1     118\n",
       "2     132\n",
       "3     129\n",
       "4     121\n",
       "     ... \n",
       "91    405\n",
       "92    355\n",
       "93    306\n",
       "94    271\n",
       "95    306\n",
       "Name: Passengers, Length: 96, dtype: int64"
      ]
     },
     "execution_count": 9,
     "metadata": {},
     "output_type": "execute_result"
    }
   ],
   "source": [
    "df.iloc[:,1]"
   ]
  },
  {
   "cell_type": "code",
   "execution_count": 10,
   "metadata": {},
   "outputs": [],
   "source": [
    "scaler=MinMaxScaler(feature_range=(0,1))\n",
    "df=scaler.fit_transform(df.iloc[:,1:])"
   ]
  },
  {
   "cell_type": "code",
   "execution_count": 11,
   "metadata": {},
   "outputs": [
    {
     "data": {
      "text/plain": [
       "(96, 1)"
      ]
     },
     "execution_count": 11,
     "metadata": {},
     "output_type": "execute_result"
    }
   ],
   "source": [
    "df.shape"
   ]
  },
  {
   "cell_type": "code",
   "execution_count": 12,
   "metadata": {},
   "outputs": [
    {
     "data": {
      "text/plain": [
       "array([[0.02588997],\n",
       "       [0.04530744],\n",
       "       [0.09061489],\n",
       "       [0.08090615],\n",
       "       [0.05501618],\n",
       "       [0.10032362],\n",
       "       [0.14239482],\n",
       "       [0.14239482],\n",
       "       [0.10355987],\n",
       "       [0.04854369],\n",
       "       [0.        ],\n",
       "       [0.04530744],\n",
       "       [0.03559871],\n",
       "       [0.07119741],\n",
       "       [0.1197411 ],\n",
       "       [0.10032362],\n",
       "       [0.06796117],\n",
       "       [0.14563107],\n",
       "       [0.21359223],\n",
       "       [0.21359223],\n",
       "       [0.17475728],\n",
       "       [0.09385113],\n",
       "       [0.03236246],\n",
       "       [0.11650485],\n",
       "       [0.13268608],\n",
       "       [0.14886731],\n",
       "       [0.2394822 ],\n",
       "       [0.19093851],\n",
       "       [0.22006472],\n",
       "       [0.2394822 ],\n",
       "       [0.30744337],\n",
       "       [0.30744337],\n",
       "       [0.25889968],\n",
       "       [0.18770227],\n",
       "       [0.13592233],\n",
       "       [0.20064725],\n",
       "       [0.21682848],\n",
       "       [0.24595469],\n",
       "       [0.28802589],\n",
       "       [0.24919094],\n",
       "       [0.25566343],\n",
       "       [0.36893204],\n",
       "       [0.40776699],\n",
       "       [0.44660194],\n",
       "       [0.33980583],\n",
       "       [0.2815534 ],\n",
       "       [0.22006472],\n",
       "       [0.29126214],\n",
       "       [0.29773463],\n",
       "       [0.29773463],\n",
       "       [0.42718447],\n",
       "       [0.42394822],\n",
       "       [0.40453074],\n",
       "       [0.44983819],\n",
       "       [0.51779935],\n",
       "       [0.54368932],\n",
       "       [0.43042071],\n",
       "       [0.34627832],\n",
       "       [0.24595469],\n",
       "       [0.31391586],\n",
       "       [0.3236246 ],\n",
       "       [0.27184466],\n",
       "       [0.42394822],\n",
       "       [0.39805825],\n",
       "       [0.42071197],\n",
       "       [0.51779935],\n",
       "       [0.6407767 ],\n",
       "       [0.61165049],\n",
       "       [0.50161812],\n",
       "       [0.40453074],\n",
       "       [0.32038835],\n",
       "       [0.40453074],\n",
       "       [0.44660194],\n",
       "       [0.41747573],\n",
       "       [0.52750809],\n",
       "       [0.53398058],\n",
       "       [0.53721683],\n",
       "       [0.6828479 ],\n",
       "       [0.84142395],\n",
       "       [0.78640777],\n",
       "       [0.67313916],\n",
       "       [0.55016181],\n",
       "       [0.43042071],\n",
       "       [0.5631068 ],\n",
       "       [0.58252427],\n",
       "       [0.55987055],\n",
       "       [0.68932039],\n",
       "       [0.6763754 ],\n",
       "       [0.69255663],\n",
       "       [0.87378641],\n",
       "       [1.        ],\n",
       "       [0.97411003],\n",
       "       [0.81229773],\n",
       "       [0.65372168],\n",
       "       [0.54045307],\n",
       "       [0.65372168]])"
      ]
     },
     "execution_count": 12,
     "metadata": {},
     "output_type": "execute_result"
    }
   ],
   "source": [
    "df"
   ]
  },
  {
   "cell_type": "code",
   "execution_count": 13,
   "metadata": {},
   "outputs": [],
   "source": [
    "##splitting dataset into train and test split\n",
    "training_size=int(len(df)*0.65)"
   ]
  },
  {
   "cell_type": "code",
   "execution_count": 14,
   "metadata": {},
   "outputs": [
    {
     "data": {
      "text/plain": [
       "62"
      ]
     },
     "execution_count": 14,
     "metadata": {},
     "output_type": "execute_result"
    }
   ],
   "source": [
    "training_size"
   ]
  },
  {
   "cell_type": "code",
   "execution_count": 15,
   "metadata": {},
   "outputs": [],
   "source": [
    "test_size=len(df)-training_size"
   ]
  },
  {
   "cell_type": "code",
   "execution_count": 16,
   "metadata": {},
   "outputs": [
    {
     "data": {
      "text/plain": [
       "34"
      ]
     },
     "execution_count": 16,
     "metadata": {},
     "output_type": "execute_result"
    }
   ],
   "source": [
    "test_size"
   ]
  },
  {
   "cell_type": "code",
   "execution_count": 17,
   "metadata": {},
   "outputs": [],
   "source": [
    "train_data,test_data=df[0:training_size,:],df[training_size:len(df),:1]"
   ]
  },
  {
   "cell_type": "code",
   "execution_count": 18,
   "metadata": {},
   "outputs": [
    {
     "data": {
      "text/plain": [
       "array([[0.02588997],\n",
       "       [0.04530744],\n",
       "       [0.09061489],\n",
       "       [0.08090615],\n",
       "       [0.05501618],\n",
       "       [0.10032362],\n",
       "       [0.14239482],\n",
       "       [0.14239482],\n",
       "       [0.10355987],\n",
       "       [0.04854369],\n",
       "       [0.        ],\n",
       "       [0.04530744],\n",
       "       [0.03559871],\n",
       "       [0.07119741],\n",
       "       [0.1197411 ],\n",
       "       [0.10032362],\n",
       "       [0.06796117],\n",
       "       [0.14563107],\n",
       "       [0.21359223],\n",
       "       [0.21359223],\n",
       "       [0.17475728],\n",
       "       [0.09385113],\n",
       "       [0.03236246],\n",
       "       [0.11650485],\n",
       "       [0.13268608],\n",
       "       [0.14886731],\n",
       "       [0.2394822 ],\n",
       "       [0.19093851],\n",
       "       [0.22006472],\n",
       "       [0.2394822 ],\n",
       "       [0.30744337],\n",
       "       [0.30744337],\n",
       "       [0.25889968],\n",
       "       [0.18770227],\n",
       "       [0.13592233],\n",
       "       [0.20064725],\n",
       "       [0.21682848],\n",
       "       [0.24595469],\n",
       "       [0.28802589],\n",
       "       [0.24919094],\n",
       "       [0.25566343],\n",
       "       [0.36893204],\n",
       "       [0.40776699],\n",
       "       [0.44660194],\n",
       "       [0.33980583],\n",
       "       [0.2815534 ],\n",
       "       [0.22006472],\n",
       "       [0.29126214],\n",
       "       [0.29773463],\n",
       "       [0.29773463],\n",
       "       [0.42718447],\n",
       "       [0.42394822],\n",
       "       [0.40453074],\n",
       "       [0.44983819],\n",
       "       [0.51779935],\n",
       "       [0.54368932],\n",
       "       [0.43042071],\n",
       "       [0.34627832],\n",
       "       [0.24595469],\n",
       "       [0.31391586],\n",
       "       [0.3236246 ],\n",
       "       [0.27184466]])"
      ]
     },
     "execution_count": 18,
     "metadata": {},
     "output_type": "execute_result"
    }
   ],
   "source": [
    "train_data"
   ]
  },
  {
   "cell_type": "code",
   "execution_count": 19,
   "metadata": {},
   "outputs": [
    {
     "data": {
      "text/plain": [
       "array([[0.42394822],\n",
       "       [0.39805825],\n",
       "       [0.42071197],\n",
       "       [0.51779935],\n",
       "       [0.6407767 ],\n",
       "       [0.61165049],\n",
       "       [0.50161812],\n",
       "       [0.40453074],\n",
       "       [0.32038835],\n",
       "       [0.40453074],\n",
       "       [0.44660194],\n",
       "       [0.41747573],\n",
       "       [0.52750809],\n",
       "       [0.53398058],\n",
       "       [0.53721683],\n",
       "       [0.6828479 ],\n",
       "       [0.84142395],\n",
       "       [0.78640777],\n",
       "       [0.67313916],\n",
       "       [0.55016181],\n",
       "       [0.43042071],\n",
       "       [0.5631068 ],\n",
       "       [0.58252427],\n",
       "       [0.55987055],\n",
       "       [0.68932039],\n",
       "       [0.6763754 ],\n",
       "       [0.69255663],\n",
       "       [0.87378641],\n",
       "       [1.        ],\n",
       "       [0.97411003],\n",
       "       [0.81229773],\n",
       "       [0.65372168],\n",
       "       [0.54045307],\n",
       "       [0.65372168]])"
      ]
     },
     "execution_count": 19,
     "metadata": {},
     "output_type": "execute_result"
    }
   ],
   "source": [
    "test_data"
   ]
  },
  {
   "cell_type": "code",
   "execution_count": 20,
   "metadata": {},
   "outputs": [],
   "source": [
    "import numpy as np\n",
    "# convert an array of values into a dataset matrix\n",
    "def create_dataset(dataset, time_step=1):\n",
    "\tdataX, dataY = [], []\n",
    "\tfor i in range(len(dataset)-time_step-1):\n",
    "\t\ta = dataset[i:(i+time_step), 0]   ###i=0, 0,1,2,3\n",
    "\t\tdataX.append(a)\n",
    "\t\tdataY.append(dataset[i + time_step, 0])\n",
    "\treturn np.array(dataX), np.array(dataY)"
   ]
  },
  {
   "cell_type": "code",
   "execution_count": 21,
   "metadata": {},
   "outputs": [],
   "source": [
    "# reshape into X=t,t+1,t+2,t+3 and Y=t+4\n",
    "time_step = 4\n",
    "X_train, y_train = create_dataset(train_data, time_step)\n",
    "X_test, ytest = create_dataset(test_data, time_step)"
   ]
  },
  {
   "cell_type": "code",
   "execution_count": 22,
   "metadata": {},
   "outputs": [
    {
     "data": {
      "text/plain": [
       "((57, 4), (57,))"
      ]
     },
     "execution_count": 22,
     "metadata": {},
     "output_type": "execute_result"
    }
   ],
   "source": [
    "X_train.shape, y_train.shape"
   ]
  },
  {
   "cell_type": "code",
   "execution_count": 23,
   "metadata": {},
   "outputs": [],
   "source": [
    "import numpy as np\n",
    "# reshape input to be [samples, time steps, features] which is required for LSTM\n",
    "X_train =X_train.reshape(X_train.shape[0], 4, 1)\n",
    "X_test = X_test.reshape(X_test.shape[0], 4, 1)"
   ]
  },
  {
   "cell_type": "code",
   "execution_count": 24,
   "metadata": {},
   "outputs": [
    {
     "data": {
      "text/plain": [
       "(57, 4, 1)"
      ]
     },
     "execution_count": 24,
     "metadata": {},
     "output_type": "execute_result"
    }
   ],
   "source": [
    "X_train.shape"
   ]
  },
  {
   "cell_type": "code",
   "execution_count": 25,
   "metadata": {},
   "outputs": [],
   "source": [
    "### Create the LSTM model\n",
    "from tensorflow.keras.models import Sequential\n",
    "from tensorflow.keras.layers import Dense\n",
    "from tensorflow.keras.layers import LSTM"
   ]
  },
  {
   "cell_type": "code",
   "execution_count": 26,
   "metadata": {},
   "outputs": [
    {
     "name": "stdout",
     "output_type": "stream",
     "text": [
      "Epoch 1/100\n",
      "57/57 [==============================] - 9s 61ms/step - loss: 0.0386 - val_loss: 0.0870\n",
      "Epoch 2/100\n",
      "57/57 [==============================] - 0s 4ms/step - loss: 0.0091 - val_loss: 0.0579\n",
      "Epoch 3/100\n",
      "57/57 [==============================] - 0s 5ms/step - loss: 0.0094 - val_loss: 0.0334\n",
      "Epoch 4/100\n",
      "57/57 [==============================] - 0s 4ms/step - loss: 0.0076 - val_loss: 0.0309\n",
      "Epoch 5/100\n",
      "57/57 [==============================] - 0s 5ms/step - loss: 0.0085 - val_loss: 0.0350\n",
      "Epoch 6/100\n",
      "57/57 [==============================] - 0s 5ms/step - loss: 0.0106 - val_loss: 0.0341\n",
      "Epoch 7/100\n",
      "57/57 [==============================] - 0s 4ms/step - loss: 0.0093 - val_loss: 0.0678\n",
      "Epoch 8/100\n",
      "57/57 [==============================] - 0s 4ms/step - loss: 0.0095 - val_loss: 0.0409\n",
      "Epoch 9/100\n",
      "57/57 [==============================] - 0s 4ms/step - loss: 0.0115 - val_loss: 0.0358\n",
      "Epoch 10/100\n",
      "57/57 [==============================] - 0s 4ms/step - loss: 0.0087 - val_loss: 0.0362\n",
      "Epoch 11/100\n",
      "57/57 [==============================] - 0s 4ms/step - loss: 0.0084 - val_loss: 0.0327\n",
      "Epoch 12/100\n",
      "57/57 [==============================] - 0s 4ms/step - loss: 0.0096 - val_loss: 0.0339\n",
      "Epoch 13/100\n",
      "57/57 [==============================] - 0s 4ms/step - loss: 0.0072 - val_loss: 0.0343\n",
      "Epoch 14/100\n",
      "57/57 [==============================] - 0s 4ms/step - loss: 0.0047 - val_loss: 0.0614\n",
      "Epoch 15/100\n",
      "57/57 [==============================] - 0s 5ms/step - loss: 0.0083 - val_loss: 0.0445\n",
      "Epoch 16/100\n",
      "57/57 [==============================] - 0s 6ms/step - loss: 0.0053 - val_loss: 0.0245\n",
      "Epoch 17/100\n",
      "57/57 [==============================] - 0s 5ms/step - loss: 0.0077 - val_loss: 0.0272\n",
      "Epoch 18/100\n",
      "57/57 [==============================] - 0s 4ms/step - loss: 0.0067 - val_loss: 0.0302\n",
      "Epoch 19/100\n",
      "57/57 [==============================] - 0s 4ms/step - loss: 0.0045 - val_loss: 0.0302\n",
      "Epoch 20/100\n",
      "57/57 [==============================] - 0s 5ms/step - loss: 0.0064 - val_loss: 0.0179\n",
      "Epoch 21/100\n",
      "57/57 [==============================] - 0s 5ms/step - loss: 0.0064 - val_loss: 0.0349\n",
      "Epoch 22/100\n",
      "57/57 [==============================] - 0s 5ms/step - loss: 0.0040 - val_loss: 0.0215\n",
      "Epoch 23/100\n",
      "57/57 [==============================] - 0s 5ms/step - loss: 0.0057 - val_loss: 0.0175\n",
      "Epoch 24/100\n",
      "57/57 [==============================] - 0s 6ms/step - loss: 0.0050 - val_loss: 0.0225\n",
      "Epoch 25/100\n",
      "57/57 [==============================] - 0s 6ms/step - loss: 0.0034 - val_loss: 0.0203\n",
      "Epoch 26/100\n",
      "57/57 [==============================] - 0s 5ms/step - loss: 0.0050 - val_loss: 0.0118\n",
      "Epoch 27/100\n",
      "57/57 [==============================] - 0s 5ms/step - loss: 0.0053 - val_loss: 0.0341\n",
      "Epoch 28/100\n",
      "57/57 [==============================] - 0s 5ms/step - loss: 0.0051 - val_loss: 0.0174\n",
      "Epoch 29/100\n",
      "57/57 [==============================] - 0s 5ms/step - loss: 0.0039 - val_loss: 0.0150\n",
      "Epoch 30/100\n",
      "57/57 [==============================] - 0s 5ms/step - loss: 0.0047 - val_loss: 0.0192\n",
      "Epoch 31/100\n",
      "57/57 [==============================] - 0s 6ms/step - loss: 0.0036 - val_loss: 0.0134\n",
      "Epoch 32/100\n",
      "57/57 [==============================] - 0s 6ms/step - loss: 0.0034 - val_loss: 0.0138\n",
      "Epoch 33/100\n",
      "57/57 [==============================] - 0s 6ms/step - loss: 0.0042 - val_loss: 0.0094\n",
      "Epoch 34/100\n",
      "57/57 [==============================] - 0s 5ms/step - loss: 0.0038 - val_loss: 0.0085\n",
      "Epoch 35/100\n",
      "57/57 [==============================] - 0s 5ms/step - loss: 0.0029 - val_loss: 0.0090\n",
      "Epoch 36/100\n",
      "57/57 [==============================] - 0s 5ms/step - loss: 0.0036 - val_loss: 0.0078\n",
      "Epoch 37/100\n",
      "57/57 [==============================] - 0s 5ms/step - loss: 0.0030 - val_loss: 0.0131\n",
      "Epoch 38/100\n",
      "57/57 [==============================] - 0s 5ms/step - loss: 0.0041 - val_loss: 0.0119\n",
      "Epoch 39/100\n",
      "57/57 [==============================] - 0s 5ms/step - loss: 0.0022 - val_loss: 0.0095\n",
      "Epoch 40/100\n",
      "57/57 [==============================] - 0s 5ms/step - loss: 0.0027 - val_loss: 0.0350\n",
      "Epoch 41/100\n",
      "57/57 [==============================] - 0s 5ms/step - loss: 0.0065 - val_loss: 0.0089\n",
      "Epoch 42/100\n",
      "57/57 [==============================] - 0s 5ms/step - loss: 0.0035 - val_loss: 0.0241\n",
      "Epoch 43/100\n",
      "57/57 [==============================] - 0s 5ms/step - loss: 0.0035 - val_loss: 0.0097\n",
      "Epoch 44/100\n",
      "57/57 [==============================] - 0s 5ms/step - loss: 0.0029 - val_loss: 0.0082\n",
      "Epoch 45/100\n",
      "57/57 [==============================] - 0s 5ms/step - loss: 0.0039 - val_loss: 0.0172\n",
      "Epoch 46/100\n",
      "57/57 [==============================] - 0s 5ms/step - loss: 0.0040 - val_loss: 0.0086\n",
      "Epoch 47/100\n",
      "57/57 [==============================] - 0s 5ms/step - loss: 0.0025 - val_loss: 0.0085\n",
      "Epoch 48/100\n",
      "57/57 [==============================] - 0s 5ms/step - loss: 0.0025 - val_loss: 0.0094\n",
      "Epoch 49/100\n",
      "57/57 [==============================] - 0s 5ms/step - loss: 0.0025 - val_loss: 0.0097\n",
      "Epoch 50/100\n",
      "57/57 [==============================] - 0s 5ms/step - loss: 0.0029 - val_loss: 0.0127\n",
      "Epoch 51/100\n",
      "57/57 [==============================] - 0s 5ms/step - loss: 0.0034 - val_loss: 0.0125\n",
      "Epoch 52/100\n",
      "57/57 [==============================] - 0s 5ms/step - loss: 0.0035 - val_loss: 0.0119\n",
      "Epoch 53/100\n",
      "57/57 [==============================] - 0s 5ms/step - loss: 0.0035 - val_loss: 0.0081\n",
      "Epoch 54/100\n",
      "57/57 [==============================] - 0s 5ms/step - loss: 0.0027 - val_loss: 0.0075\n",
      "Epoch 55/100\n",
      "57/57 [==============================] - 0s 5ms/step - loss: 0.0037 - val_loss: 0.0112\n",
      "Epoch 56/100\n",
      "57/57 [==============================] - 0s 5ms/step - loss: 0.0025 - val_loss: 0.0112\n",
      "Epoch 57/100\n",
      "57/57 [==============================] - 0s 5ms/step - loss: 0.0026 - val_loss: 0.0188\n",
      "Epoch 58/100\n",
      "57/57 [==============================] - 0s 5ms/step - loss: 0.0046 - val_loss: 0.0119\n",
      "Epoch 59/100\n",
      "57/57 [==============================] - 0s 5ms/step - loss: 0.0025 - val_loss: 0.0108\n",
      "Epoch 60/100\n",
      "57/57 [==============================] - 0s 5ms/step - loss: 0.0033 - val_loss: 0.0110\n",
      "Epoch 61/100\n",
      "57/57 [==============================] - 0s 5ms/step - loss: 0.0030 - val_loss: 0.0077\n",
      "Epoch 62/100\n",
      "57/57 [==============================] - 0s 5ms/step - loss: 0.0038 - val_loss: 0.0104\n",
      "Epoch 63/100\n",
      "57/57 [==============================] - 0s 5ms/step - loss: 0.0026 - val_loss: 0.0097\n",
      "Epoch 64/100\n",
      "57/57 [==============================] - 0s 5ms/step - loss: 0.0032 - val_loss: 0.0106\n",
      "Epoch 65/100\n",
      "57/57 [==============================] - 0s 4ms/step - loss: 0.0036 - val_loss: 0.0175\n",
      "Epoch 66/100\n",
      "57/57 [==============================] - 0s 5ms/step - loss: 0.0020 - val_loss: 0.0080\n",
      "Epoch 67/100\n",
      "57/57 [==============================] - 0s 5ms/step - loss: 0.0037 - val_loss: 0.0097\n",
      "Epoch 68/100\n",
      "57/57 [==============================] - 0s 5ms/step - loss: 0.0029 - val_loss: 0.0123\n",
      "Epoch 69/100\n",
      "57/57 [==============================] - 0s 4ms/step - loss: 0.0036 - val_loss: 0.0103\n",
      "Epoch 70/100\n",
      "57/57 [==============================] - 0s 5ms/step - loss: 0.0028 - val_loss: 0.0119\n",
      "Epoch 71/100\n",
      "57/57 [==============================] - 0s 4ms/step - loss: 0.0017 - val_loss: 0.0081\n",
      "Epoch 72/100\n",
      "57/57 [==============================] - 0s 5ms/step - loss: 0.0026 - val_loss: 0.0226\n",
      "Epoch 73/100\n",
      "57/57 [==============================] - 0s 4ms/step - loss: 0.0031 - val_loss: 0.0170\n",
      "Epoch 74/100\n",
      "57/57 [==============================] - 0s 5ms/step - loss: 0.0023 - val_loss: 0.0112\n",
      "Epoch 75/100\n",
      "57/57 [==============================] - 0s 5ms/step - loss: 0.0030 - val_loss: 0.0108\n",
      "Epoch 76/100\n",
      "57/57 [==============================] - 0s 5ms/step - loss: 0.0034 - val_loss: 0.0137\n",
      "Epoch 77/100\n",
      "57/57 [==============================] - 0s 5ms/step - loss: 0.0023 - val_loss: 0.0106\n",
      "Epoch 78/100\n",
      "57/57 [==============================] - 0s 5ms/step - loss: 0.0035 - val_loss: 0.0098\n",
      "Epoch 79/100\n",
      "57/57 [==============================] - 0s 4ms/step - loss: 0.0044 - val_loss: 0.0155\n",
      "Epoch 80/100\n",
      "57/57 [==============================] - 0s 5ms/step - loss: 0.0031 - val_loss: 0.0159\n",
      "Epoch 81/100\n",
      "57/57 [==============================] - 0s 4ms/step - loss: 0.0028 - val_loss: 0.0134\n",
      "Epoch 82/100\n",
      "57/57 [==============================] - 0s 5ms/step - loss: 0.0025 - val_loss: 0.0137\n",
      "Epoch 83/100\n",
      "57/57 [==============================] - 0s 4ms/step - loss: 0.0024 - val_loss: 0.0075\n",
      "Epoch 84/100\n",
      "57/57 [==============================] - 0s 4ms/step - loss: 0.0032 - val_loss: 0.0100\n",
      "Epoch 85/100\n",
      "57/57 [==============================] - 0s 4ms/step - loss: 0.0029 - val_loss: 0.0081\n",
      "Epoch 86/100\n",
      "57/57 [==============================] - 0s 4ms/step - loss: 0.0028 - val_loss: 0.0132\n",
      "Epoch 87/100\n",
      "57/57 [==============================] - 0s 4ms/step - loss: 0.0031 - val_loss: 0.0166\n",
      "Epoch 88/100\n",
      "57/57 [==============================] - 0s 4ms/step - loss: 0.0024 - val_loss: 0.0089\n",
      "Epoch 89/100\n",
      "57/57 [==============================] - 0s 4ms/step - loss: 0.0028 - val_loss: 0.0155\n",
      "Epoch 90/100\n",
      "57/57 [==============================] - 0s 4ms/step - loss: 0.0025 - val_loss: 0.0138\n",
      "Epoch 91/100\n",
      "57/57 [==============================] - 0s 4ms/step - loss: 0.0027 - val_loss: 0.0195\n",
      "Epoch 92/100\n",
      "57/57 [==============================] - 0s 4ms/step - loss: 0.0029 - val_loss: 0.0133\n",
      "Epoch 93/100\n",
      "57/57 [==============================] - 0s 4ms/step - loss: 0.0030 - val_loss: 0.0075\n",
      "Epoch 94/100\n",
      "57/57 [==============================] - 0s 4ms/step - loss: 0.0028 - val_loss: 0.0149\n",
      "Epoch 95/100\n",
      "57/57 [==============================] - 0s 4ms/step - loss: 0.0043 - val_loss: 0.0113\n",
      "Epoch 96/100\n",
      "57/57 [==============================] - 0s 4ms/step - loss: 0.0027 - val_loss: 0.0143\n",
      "Epoch 97/100\n",
      "57/57 [==============================] - 0s 4ms/step - loss: 0.0034 - val_loss: 0.0196\n",
      "Epoch 98/100\n",
      "57/57 [==============================] - 0s 4ms/step - loss: 0.0045 - val_loss: 0.0111\n",
      "Epoch 99/100\n",
      "57/57 [==============================] - 0s 4ms/step - loss: 0.0029 - val_loss: 0.0101\n",
      "Epoch 100/100\n",
      "57/57 [==============================] - 0s 4ms/step - loss: 0.0027 - val_loss: 0.0165\n"
     ]
    },
    {
     "data": {
      "text/plain": [
       "<tensorflow.python.keras.callbacks.History at 0x20362284160>"
      ]
     },
     "execution_count": 26,
     "metadata": {},
     "output_type": "execute_result"
    }
   ],
   "source": [
    "model=Sequential()\n",
    "model.add(LSTM(50,return_sequences=True,input_shape=(4,1)))\n",
    "model.add(LSTM(50))\n",
    "model.add(Dense(1))\n",
    "model.compile(loss='mean_squared_error',optimizer='adam')\n",
    "model.fit(X_train,y_train,validation_data=(X_test,ytest),epochs=100,batch_size=1,verbose=1)"
   ]
  },
  {
   "cell_type": "code",
   "execution_count": 27,
   "metadata": {},
   "outputs": [],
   "source": [
    "train_predict=model.predict(X_train)\n",
    "test_predict=model.predict(X_test)"
   ]
  },
  {
   "cell_type": "code",
   "execution_count": 28,
   "metadata": {},
   "outputs": [
    {
     "data": {
      "text/plain": [
       "array([[0.5065356 ],\n",
       "       [0.60544914],\n",
       "       [0.48637295],\n",
       "       [0.36195296],\n",
       "       [0.34284937],\n",
       "       [0.30220646],\n",
       "       [0.42294127],\n",
       "       [0.43613183],\n",
       "       [0.3561238 ],\n",
       "       [0.5073356 ],\n",
       "       [0.47920108],\n",
       "       [0.45161068],\n",
       "       [0.65115356],\n",
       "       [0.7705468 ],\n",
       "       [0.55940694],\n",
       "       [0.45774335],\n",
       "       [0.44762284],\n",
       "       [0.37944436],\n",
       "       [0.5884378 ],\n",
       "       [0.54310447],\n",
       "       [0.44796354],\n",
       "       [0.6453882 ],\n",
       "       [0.5668982 ],\n",
       "       [0.55667984],\n",
       "       [0.8130878 ],\n",
       "       [0.8432332 ],\n",
       "       [0.6718456 ],\n",
       "       [0.5221171 ],\n",
       "       [0.5017885 ]], dtype=float32)"
      ]
     },
     "execution_count": 28,
     "metadata": {},
     "output_type": "execute_result"
    }
   ],
   "source": [
    "test_predict"
   ]
  },
  {
   "cell_type": "code",
   "execution_count": 29,
   "metadata": {},
   "outputs": [],
   "source": [
    "##Transformback to original form\n",
    "train_predict=scaler.inverse_transform(train_predict)\n",
    "test_predict=scaler.inverse_transform(test_predict)"
   ]
  },
  {
   "cell_type": "code",
   "execution_count": 30,
   "metadata": {},
   "outputs": [
    {
     "data": {
      "text/plain": [
       "array([[260.5195 ],\n",
       "       [291.0838 ],\n",
       "       [254.28925],\n",
       "       [215.84348],\n",
       "       [209.94046],\n",
       "       [197.3818 ],\n",
       "       [234.68886],\n",
       "       [238.76474],\n",
       "       [214.04227],\n",
       "       [260.76672],\n",
       "       [252.07314],\n",
       "       [243.54771],\n",
       "       [305.20645],\n",
       "       [342.09894],\n",
       "       [276.85675],\n",
       "       [245.4427 ],\n",
       "       [242.31546],\n",
       "       [221.24832],\n",
       "       [285.8273 ],\n",
       "       [271.81927],\n",
       "       [242.42075],\n",
       "       [303.42496],\n",
       "       [279.17157],\n",
       "       [276.01407],\n",
       "       [355.24414],\n",
       "       [364.55905],\n",
       "       [311.6003 ],\n",
       "       [265.3342 ],\n",
       "       [259.05264]], dtype=float32)"
      ]
     },
     "execution_count": 30,
     "metadata": {},
     "output_type": "execute_result"
    }
   ],
   "source": [
    "test_predict"
   ]
  },
  {
   "cell_type": "code",
   "execution_count": 31,
   "metadata": {},
   "outputs": [
    {
     "data": {
      "text/plain": [
       "((57,),\n",
       " (57, 1),\n",
       " array([[129.79652 ],\n",
       "        [123.30984 ],\n",
       "        [138.83887 ],\n",
       "        [149.7173  ],\n",
       "        [147.51189 ],\n",
       "        [136.39642 ],\n",
       "        [122.79648 ],\n",
       "        [110.8875  ],\n",
       "        [123.83625 ],\n",
       "        [117.692474],\n",
       "        [128.08025 ],\n",
       "        [142.54515 ],\n",
       "        [134.93555 ],\n",
       "        [127.07233 ],\n",
       "        [153.26978 ],\n",
       "        [171.29474 ],\n",
       "        [166.48595 ],\n",
       "        [154.84364 ],\n",
       "        [133.78369 ],\n",
       "        [120.470505],\n",
       "        [146.90176 ],\n",
       "        [146.25987 ],\n",
       "        [149.60068 ],\n",
       "        [180.08107 ],\n",
       "        [158.63458 ],\n",
       "        [171.30486 ],\n",
       "        [179.12653 ],\n",
       "        [198.77467 ],\n",
       "        [193.43895 ],\n",
       "        [175.24498 ],\n",
       "        [158.54831 ],\n",
       "        [148.82028 ],\n",
       "        [172.31686 ],\n",
       "        [171.7963  ],\n",
       "        [178.16194 ],\n",
       "        [191.9514  ],\n",
       "        [174.75772 ],\n",
       "        [180.61635 ],\n",
       "        [221.99713 ],\n",
       "        [223.78134 ],\n",
       "        [228.92607 ],\n",
       "        [187.82867 ],\n",
       "        [181.72821 ],\n",
       "        [172.69339 ],\n",
       "        [199.0841  ],\n",
       "        [194.39252 ],\n",
       "        [189.53572 ],\n",
       "        [237.98988 ],\n",
       "        [223.19049 ],\n",
       "        [210.3721  ],\n",
       "        [236.13118 ],\n",
       "        [256.43112 ],\n",
       "        [252.63571 ],\n",
       "        [204.4589  ],\n",
       "        [194.37427 ],\n",
       "        [176.89229 ],\n",
       "        [207.50307 ]], dtype=float32))"
      ]
     },
     "execution_count": 31,
     "metadata": {},
     "output_type": "execute_result"
    }
   ],
   "source": [
    "y_train.shape,train_predict.shape,train_predict"
   ]
  },
  {
   "cell_type": "code",
   "execution_count": 32,
   "metadata": {},
   "outputs": [
    {
     "data": {
      "text/plain": [
       "175.5756756292395"
      ]
     },
     "execution_count": 32,
     "metadata": {},
     "output_type": "execute_result"
    }
   ],
   "source": [
    "### Calculate RMSE performance metrics\n",
    "import math\n",
    "from sklearn.metrics import mean_squared_error\n",
    "math.sqrt(mean_squared_error(y_train,train_predict))"
   ]
  },
  {
   "cell_type": "code",
   "execution_count": 33,
   "metadata": {},
   "outputs": [
    {
     "data": {
      "text/plain": [
       "268.76181405365077"
      ]
     },
     "execution_count": 33,
     "metadata": {},
     "output_type": "execute_result"
    }
   ],
   "source": [
    "### Test Data RMSE\n",
    "math.sqrt(mean_squared_error(ytest,test_predict))"
   ]
  },
  {
   "cell_type": "code",
   "execution_count": 37,
   "metadata": {},
   "outputs": [
    {
     "data": {
      "image/png": "[encoded data removed]",
      "text/plain": [
       "<Figure size 432x288 with 1 Axes>"
      ]
     },
     "metadata": {
      "needs_background": "light"
     },
     "output_type": "display_data"
    }
   ],
   "source": [
    "### Plotting \n",
    "# shift train predictions for plotting\n",
    "look_back=4\n",
    "trainPredictPlot = np.empty_like(df)\n",
    "trainPredictPlot[:, :] = np.nan\n",
    "trainPredictPlot[look_back:len(train_predict)+look_back, :] = train_predict\n",
    "# shift test predictions for plotting\n",
    "testPredictPlot = np.empty_like(df)\n",
    "testPredictPlot[:, :] = np.nan\n",
    "testPredictPlot[len(train_predict)+(look_back*2)+1:len(df)-1, :] = test_predict\n",
    "# plot baseline and predictions\n",
    "plt.plot(scaler.inverse_transform(df))\n",
    "plt.plot(trainPredictPlot)\n",
    "plt.plot(testPredictPlot)\n",
    "plt.show()"
   ]
  },
  {
   "cell_type": "code",
   "execution_count": null,
   "metadata": {},
   "outputs": [],
   "source": []
  }
 ],
 "metadata": {
  "kernelspec": {
   "display_name": "Python 3",
   "language": "python",
   "name": "python3"
  },
  "language_info": {
   "codemirror_mode": {
    "name": "ipython",
    "version": 3
   },
   "file_extension": ".py",
   "mimetype": "text/x-python",
   "name": "python",
   "nbconvert_exporter": "python",
   "pygments_lexer": "ipython3",
   "version": "3.8.5"
  }
 },
 "nbformat": 4,
 "nbformat_minor": 4
}
